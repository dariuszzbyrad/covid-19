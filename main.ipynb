{
 "cells": [
  {
   "cell_type": "markdown",
   "metadata": {},
   "source": [
    "# Introduction\n",
    "It's totally the simplest solution to trying to predict the number of infected people by COVID-19 on a few next days based on the historical data.  I use it for it exp function y(t)=a*exp(b*t).\n",
    "\n",
    "## ETL"
   ]
  },
  {
   "cell_type": "code",
   "execution_count": 1,
   "metadata": {},
   "outputs": [
    {
     "data": {
      "text/html": [
       "<div>\n",
       "<style scoped>\n",
       "    .dataframe tbody tr th:only-of-type {\n",
       "        vertical-align: middle;\n",
       "    }\n",
       "\n",
       "    .dataframe tbody tr th {\n",
       "        vertical-align: top;\n",
       "    }\n",
       "\n",
       "    .dataframe thead th {\n",
       "        text-align: right;\n",
       "    }\n",
       "</style>\n",
       "<table border=\"1\" class=\"dataframe\">\n",
       "  <thead>\n",
       "    <tr style=\"text-align: right;\">\n",
       "      <th></th>\n",
       "      <th>date</th>\n",
       "      <th>infected</th>\n",
       "      <th>day</th>\n",
       "    </tr>\n",
       "  </thead>\n",
       "  <tbody>\n",
       "    <tr>\n",
       "      <th>0</th>\n",
       "      <td>2020-03-04</td>\n",
       "      <td>1</td>\n",
       "      <td>1</td>\n",
       "    </tr>\n",
       "    <tr>\n",
       "      <th>1</th>\n",
       "      <td>2020-03-05</td>\n",
       "      <td>1</td>\n",
       "      <td>2</td>\n",
       "    </tr>\n",
       "    <tr>\n",
       "      <th>2</th>\n",
       "      <td>2020-03-06</td>\n",
       "      <td>5</td>\n",
       "      <td>3</td>\n",
       "    </tr>\n",
       "    <tr>\n",
       "      <th>3</th>\n",
       "      <td>2020-03-07</td>\n",
       "      <td>6</td>\n",
       "      <td>4</td>\n",
       "    </tr>\n",
       "    <tr>\n",
       "      <th>4</th>\n",
       "      <td>2020-03-08</td>\n",
       "      <td>11</td>\n",
       "      <td>5</td>\n",
       "    </tr>\n",
       "  </tbody>\n",
       "</table>\n",
       "</div>"
      ],
      "text/plain": [
       "        date  infected  day\n",
       "0 2020-03-04         1    1\n",
       "1 2020-03-05         1    2\n",
       "2 2020-03-06         5    3\n",
       "3 2020-03-07         6    4\n",
       "4 2020-03-08        11    5"
      ]
     },
     "execution_count": 1,
     "metadata": {},
     "output_type": "execute_result"
    }
   ],
   "source": [
    "import pandas as pd\n",
    "import numpy as np\n",
    "import matplotlib.pyplot as plt\n",
    "from scipy.optimize import curve_fit\n",
    "\n",
    "df = pd.read_csv('poland_basic.csv', sep=';')\n",
    "df['date'] = pd.to_datetime(df['date'])\n",
    "df['day'] = range(1, len(df) + 1)\n",
    "df.head()"
   ]
  },
  {
   "cell_type": "markdown",
   "metadata": {},
   "source": [
    "## Define prediction function "
   ]
  },
  {
   "cell_type": "code",
   "execution_count": 2,
   "metadata": {},
   "outputs": [],
   "source": [
    "def exp_func(x, a, b):\n",
    "    return a * np.exp(b * x)\n",
    "\n",
    "popt, pcov = curve_fit(exp_func, df['day'], df['infected'])"
   ]
  },
  {
   "cell_type": "markdown",
   "metadata": {},
   "source": [
    "## Plot fitted function"
   ]
  },
  {
   "cell_type": "code",
   "execution_count": 3,
   "metadata": {},
   "outputs": [
    {
     "data": {
      "image/png": "[encoded data removed]",
      "text/plain": [
       "<Figure size 432x288 with 1 Axes>"
      ]
     },
     "metadata": {},
     "output_type": "display_data"
    }
   ],
   "source": [
    "plt.figure()\n",
    "plt.plot(df['day'], df['infected'], 'ko', label=\"Infected\")\n",
    "plt.plot(df['day'], exp_func(df['day'], *popt), 'r-', label=\"Prediction\")\n",
    "plt.legend()\n",
    "plt.show()"
   ]
  },
  {
   "cell_type": "markdown",
   "metadata": {},
   "source": [
    "y(t) = a * exp(b * t)"
   ]
  },
  {
   "cell_type": "code",
   "execution_count": 4,
   "metadata": {},
   "outputs": [
    {
     "name": "stdout",
     "output_type": "stream",
     "text": [
      "a=11.676313276478341 b=0.20805572702585984\n",
      "R^2=0.99292330642791\n"
     ]
    }
   ],
   "source": [
    "xdata = df['day']\n",
    "ydata = df['infected']\n",
    "\n",
    "residuals = ydata - exp_func(xdata, *popt)\n",
    "ss_res = np.sum(residuals**2) #residual sum of squares \n",
    "ss_tot = np.sum((ydata - np.mean(ydata))**2) #total sum of squares\n",
    "r_squared = 1 - (ss_res / ss_tot)\n",
    "\n",
    "print('a={} b={}'.format(popt[0], popt[1]))\n",
    "print('R^2={}'.format(r_squared))"
   ]
  },
  {
   "cell_type": "markdown",
   "metadata": {},
   "source": [
    "## Predict number of infected people for the next few days"
   ]
  },
  {
   "cell_type": "code",
   "execution_count": 5,
   "metadata": {},
   "outputs": [
    {
     "name": "stdout",
     "output_type": "stream",
     "text": [
      "Date: 2020-03-25. Predicted infected people: 1135\n",
      "Date: 2020-03-26. Predicted infected people: 1398\n",
      "Date: 2020-03-27. Predicted infected people: 1721\n",
      "Date: 2020-03-28. Predicted infected people: 2119\n",
      "Date: 2020-03-29. Predicted infected people: 2609\n",
      "Date: 2020-03-30. Predicted infected people: 3213\n",
      "Date: 2020-03-31. Predicted infected people: 3956\n",
      "Date: 2020-04-01. Predicted infected people: 4871\n",
      "Date: 2020-04-02. Predicted infected people: 5998\n",
      "Date: 2020-04-03. Predicted infected people: 7385\n",
      "Date: 2020-04-04. Predicted infected people: 9093\n",
      "Date: 2020-04-05. Predicted infected people: 11197\n",
      "Date: 2020-04-06. Predicted infected people: 13786\n",
      "Date: 2020-04-07. Predicted infected people: 16975\n"
     ]
    }
   ],
   "source": [
    "last_day = df.tail(1)\n",
    "last_date = last_day['date']\n",
    "last_index = last_day['day']\n",
    "\n",
    "for i in range(1, 15):\n",
    "    date = last_date + pd.DateOffset(i)\n",
    "    predicted = exp_func(last_index + i, *popt)\n",
    "    print(\"Date: {}. Predicted infected people: {}\".format(np.datetime_as_string(date, unit='D')[0], int(predicted)))"
   ]
  }
 ],
 "metadata": {
  "kernelspec": {
   "display_name": "Python 3",
   "language": "python",
   "name": "python3"
  },
  "language_info": {
   "codemirror_mode": {
    "name": "ipython",
    "version": 3
   },
   "file_extension": ".py",
   "mimetype": "text/x-python",
   "name": "python",
   "nbconvert_exporter": "python",
   "pygments_lexer": "ipython3",
   "version": "3.6.5"
  }
 },
 "nbformat": 4,
 "nbformat_minor": 2
}
