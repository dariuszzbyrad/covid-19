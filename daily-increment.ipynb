{
 "cells": [
  {
   "cell_type": "markdown",
   "metadata": {},
   "source": [
    "# Introduction\n",
    "TBS\n",
    "\n",
    "## ETL"
   ]
  },
  {
   "cell_type": "code",
   "execution_count": 1,
   "metadata": {},
   "outputs": [
    {
     "data": {
      "text/html": [
       "<div>\n",
       "<style scoped>\n",
       "    .dataframe tbody tr th:only-of-type {\n",
       "        vertical-align: middle;\n",
       "    }\n",
       "\n",
       "    .dataframe tbody tr th {\n",
       "        vertical-align: top;\n",
       "    }\n",
       "\n",
       "    .dataframe thead th {\n",
       "        text-align: right;\n",
       "    }\n",
       "</style>\n",
       "<table border=\"1\" class=\"dataframe\">\n",
       "  <thead>\n",
       "    <tr style=\"text-align: right;\">\n",
       "      <th></th>\n",
       "      <th>date</th>\n",
       "      <th>infected</th>\n",
       "      <th>day</th>\n",
       "    </tr>\n",
       "  </thead>\n",
       "  <tbody>\n",
       "    <tr>\n",
       "      <th>0</th>\n",
       "      <td>2020-03-04</td>\n",
       "      <td>1</td>\n",
       "      <td>1</td>\n",
       "    </tr>\n",
       "    <tr>\n",
       "      <th>1</th>\n",
       "      <td>2020-03-05</td>\n",
       "      <td>1</td>\n",
       "      <td>2</td>\n",
       "    </tr>\n",
       "    <tr>\n",
       "      <th>2</th>\n",
       "      <td>2020-03-06</td>\n",
       "      <td>5</td>\n",
       "      <td>3</td>\n",
       "    </tr>\n",
       "    <tr>\n",
       "      <th>3</th>\n",
       "      <td>2020-03-07</td>\n",
       "      <td>6</td>\n",
       "      <td>4</td>\n",
       "    </tr>\n",
       "    <tr>\n",
       "      <th>4</th>\n",
       "      <td>2020-03-08</td>\n",
       "      <td>11</td>\n",
       "      <td>5</td>\n",
       "    </tr>\n",
       "  </tbody>\n",
       "</table>\n",
       "</div>"
      ],
      "text/plain": [
       "        date  infected  day\n",
       "0 2020-03-04         1    1\n",
       "1 2020-03-05         1    2\n",
       "2 2020-03-06         5    3\n",
       "3 2020-03-07         6    4\n",
       "4 2020-03-08        11    5"
      ]
     },
     "execution_count": 1,
     "metadata": {},
     "output_type": "execute_result"
    }
   ],
   "source": [
    "import pandas as pd\n",
    "import numpy as np\n",
    "import matplotlib.pyplot as plt\n",
    "from scipy.optimize import curve_fit\n",
    "\n",
    "df = pd.read_csv('poland_basic.csv', sep=';')\n",
    "df['date'] = pd.to_datetime(df['date'])\n",
    "df['day'] = range(1, len(df) + 1)\n",
    "df.head()"
   ]
  },
  {
   "cell_type": "markdown",
   "metadata": {},
   "source": [
    "## Define prediction function "
   ]
  },
  {
   "cell_type": "code",
   "execution_count": 2,
   "metadata": {},
   "outputs": [],
   "source": [
    "def exp_func(x, a, b):\n",
    "    return a * np.exp(b * x)\n",
    "\n",
    "def exp_func(x, a, b):\n",
    "    return a * (b ** x)"
   ]
  },
  {
   "cell_type": "code",
   "execution_count": 3,
   "metadata": {},
   "outputs": [
    {
     "data": {
      "text/plain": [
       "[74.11127557784074,\n",
       " 64.06225922923181,\n",
       " 45.85759877920157,\n",
       " 42.33520086883893,\n",
       " 48.36125806306959,\n",
       " 36.50517303870045,\n",
       " 48.565206708307926,\n",
       " 39.526287378488824,\n",
       " 37.82947236560168,\n",
       " 35.80576791699757,\n",
       " 28.87002738255773,\n",
       " 26.639187677992137,\n",
       " 23.021237117254678,\n",
       " 23.088463415896232,\n",
       " 22.096520852902856,\n",
       " 20.479378690022145,\n",
       " 19.838695373408832]"
      ]
     },
     "execution_count": 3,
     "metadata": {},
     "output_type": "execute_result"
    }
   ],
   "source": [
    "wsp = []\n",
    "for start_day in range(0, len(df)-4):\n",
    "    df_window = df[start_day:start_day+5]\n",
    "    popt, pcov = curve_fit(exp_func, df_window['day'], df_window['infected'])\n",
    "    wsp.append((popt[1] - 1) * 100)\n",
    "    \n",
    "wsp"
   ]
  },
  {
   "cell_type": "markdown",
   "metadata": {},
   "source": [
    "## Plot fitted function"
   ]
  },
  {
   "cell_type": "code",
   "execution_count": 4,
   "metadata": {},
   "outputs": [
    {
     "data": {
      "image/png": "[encoded data removed]",
      "text/plain": [
       "<Figure size 432x288 with 1 Axes>"
      ]
     },
     "metadata": {},
     "output_type": "display_data"
    }
   ],
   "source": [
    "#last day from data source + 1\n",
    "status_date = np.datetime_as_string(df['date'].tail(1) + pd.DateOffset(1), unit='D')[0]\n",
    "\n",
    "plt.figure()\n",
    "plt.plot(range(1, len(wsp) + 1), wsp, 'r-', label=\"Infected\")\n",
    "\n",
    "plt.title('Average daily increment for each five-day window ({})'.format(status_date))\n",
    "plt.xlabel('Window number')\n",
    "plt.ylabel('Average daily increase [%]')\n",
    "\n",
    "plt.show()"
   ]
  }
 ],
 "metadata": {
  "kernelspec": {
   "display_name": "Python 3",
   "language": "python",
   "name": "python3"
  },
  "language_info": {
   "codemirror_mode": {
    "name": "ipython",
    "version": 3
   },
   "file_extension": ".py",
   "mimetype": "text/x-python",
   "name": "python",
   "nbconvert_exporter": "python",
   "pygments_lexer": "ipython3",
   "version": "3.6.5"
  }
 },
 "nbformat": 4,
 "nbformat_minor": 2
}
