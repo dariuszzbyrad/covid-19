{
 "cells": [
  {
   "cell_type": "markdown",
   "metadata": {},
   "source": [
    "# Introduction\n",
    "TBS\n",
    "\n",
    "## ETL"
   ]
  },
  {
   "cell_type": "code",
   "execution_count": 1,
   "metadata": {},
   "outputs": [
    {
     "data": {
      "text/html": [
       "<div>\n",
       "<style scoped>\n",
       "    .dataframe tbody tr th:only-of-type {\n",
       "        vertical-align: middle;\n",
       "    }\n",
       "\n",
       "    .dataframe tbody tr th {\n",
       "        vertical-align: top;\n",
       "    }\n",
       "\n",
       "    .dataframe thead th {\n",
       "        text-align: right;\n",
       "    }\n",
       "</style>\n",
       "<table border=\"1\" class=\"dataframe\">\n",
       "  <thead>\n",
       "    <tr style=\"text-align: right;\">\n",
       "      <th></th>\n",
       "      <th>date</th>\n",
       "      <th>infected</th>\n",
       "      <th>day</th>\n",
       "    </tr>\n",
       "  </thead>\n",
       "  <tbody>\n",
       "    <tr>\n",
       "      <th>0</th>\n",
       "      <td>2020-03-04</td>\n",
       "      <td>1</td>\n",
       "      <td>1</td>\n",
       "    </tr>\n",
       "    <tr>\n",
       "      <th>1</th>\n",
       "      <td>2020-03-05</td>\n",
       "      <td>1</td>\n",
       "      <td>2</td>\n",
       "    </tr>\n",
       "    <tr>\n",
       "      <th>2</th>\n",
       "      <td>2020-03-06</td>\n",
       "      <td>5</td>\n",
       "      <td>3</td>\n",
       "    </tr>\n",
       "    <tr>\n",
       "      <th>3</th>\n",
       "      <td>2020-03-07</td>\n",
       "      <td>6</td>\n",
       "      <td>4</td>\n",
       "    </tr>\n",
       "    <tr>\n",
       "      <th>4</th>\n",
       "      <td>2020-03-08</td>\n",
       "      <td>11</td>\n",
       "      <td>5</td>\n",
       "    </tr>\n",
       "  </tbody>\n",
       "</table>\n",
       "</div>"
      ],
      "text/plain": [
       "        date  infected  day\n",
       "0 2020-03-04         1    1\n",
       "1 2020-03-05         1    2\n",
       "2 2020-03-06         5    3\n",
       "3 2020-03-07         6    4\n",
       "4 2020-03-08        11    5"
      ]
     },
     "execution_count": 1,
     "metadata": {},
     "output_type": "execute_result"
    }
   ],
   "source": [
    "import pandas as pd\n",
    "import numpy as np\n",
    "import matplotlib.pyplot as plt\n",
    "from scipy.optimize import curve_fit\n",
    "\n",
    "df = pd.read_csv('poland_basic.csv', sep=';')\n",
    "df['date'] = pd.to_datetime(df['date'])\n",
    "df['day'] = range(1, len(df) + 1)\n",
    "df.head()"
   ]
  },
  {
   "cell_type": "markdown",
   "metadata": {},
   "source": [
    "## Define prediction function "
   ]
  },
  {
   "cell_type": "code",
   "execution_count": 2,
   "metadata": {},
   "outputs": [],
   "source": [
    "def exp_func(x, a, b):\n",
    "    return a * np.exp(b * x)\n",
    "\n",
    "def exp_func(x, a, b):\n",
    "    return a * (b ** x)"
   ]
  },
  {
   "cell_type": "code",
   "execution_count": 3,
   "metadata": {},
   "outputs": [
    {
     "data": {
      "text/plain": [
       "[74.11127557784074,\n",
       " 64.06225922923181,\n",
       " 45.85759877920157,\n",
       " 42.33520086883893,\n",
       " 48.36125806306959,\n",
       " 44.194440412499006,\n",
       " 47.16748858088571,\n",
       " 37.153879974248014,\n",
       " 35.452264909505146,\n",
       " 35.100986396129194,\n",
       " 29.7535601887843,\n",
       " 27.03249787886193,\n",
       " 23.000677522716593,\n",
       " 22.666912771352308,\n",
       " 21.879899064564356,\n",
       " 20.382297225716318,\n",
       " 19.8191168918316,\n",
       " 18.444188661353465,\n",
       " 17.66989691140377,\n",
       " 16.232843402872277,\n",
       " 15.914078113147045,\n",
       " 15.425141625990246,\n",
       " 13.95363181849043,\n",
       " 12.928374791437069,\n",
       " 11.587045800062224,\n",
       " 12.21302824008279,\n",
       " 13.443492774702936,\n",
       " 12.346351178217162,\n",
       " 11.989582448496549,\n",
       " 10.35916561608683,\n",
       " 9.578593998795014,\n",
       " 9.144949389681244,\n",
       " 8.041458018188475,\n",
       " 7.579799580634061,\n",
       " 6.975896558260741,\n",
       " 6.429927541775915,\n",
       " 5.5673328380867915,\n",
       " 4.717807649789774,\n",
       " 4.38839674556164,\n",
       " 4.430334630855359]"
      ]
     },
     "execution_count": 3,
     "metadata": {},
     "output_type": "execute_result"
    }
   ],
   "source": [
    "wsp = []\n",
    "for start_day in range(0, len(df)-4):\n",
    "    df_window = df[start_day:start_day+5]\n",
    "    popt, pcov = curve_fit(exp_func, df_window['day'], df_window['infected'])\n",
    "    wsp.append((popt[1] - 1) * 100)\n",
    "    \n",
    "wsp"
   ]
  },
  {
   "cell_type": "markdown",
   "metadata": {},
   "source": [
    "## Plot fitted function"
   ]
  },
  {
   "cell_type": "code",
   "execution_count": 4,
   "metadata": {},
   "outputs": [
    {
     "data": {
      "image/png": "[encoded data removed]",
      "text/plain": [
       "<Figure size 432x288 with 1 Axes>"
      ]
     },
     "metadata": {},
     "output_type": "display_data"
    }
   ],
   "source": [
    "#last day from data source + 1\n",
    "status_date = np.datetime_as_string(df['date'].tail(1) + pd.DateOffset(1), unit='D')[0]\n",
    "\n",
    "plt.figure()\n",
    "plt.plot(range(1, len(wsp) + 1), wsp, 'r-', label=\"Infected\")\n",
    "\n",
    "plt.title('Average daily increment for each five-day window ({})'.format(status_date))\n",
    "plt.xlabel('Window number')\n",
    "plt.ylabel('Average daily increase [%]')\n",
    "\n",
    "plt.show()"
   ]
  }
 ],
 "metadata": {
  "kernelspec": {
   "display_name": "Python 3",
   "language": "python",
   "name": "python3"
  },
  "language_info": {
   "codemirror_mode": {
    "name": "ipython",
    "version": 3
   },
   "file_extension": ".py",
   "mimetype": "text/x-python",
   "name": "python",
   "nbconvert_exporter": "python",
   "pygments_lexer": "ipython3",
   "version": "3.6.5"
  }
 },
 "nbformat": 4,
 "nbformat_minor": 2
}
