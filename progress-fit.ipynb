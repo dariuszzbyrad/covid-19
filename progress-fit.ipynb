{
 "cells": [
  {
   "cell_type": "markdown",
   "metadata": {},
   "source": [
    "# Introduction\n",
    "TBS\n",
    "\n",
    "## ETL"
   ]
  },
  {
   "cell_type": "code",
   "execution_count": 1,
   "metadata": {},
   "outputs": [
    {
     "data": {
      "text/html": [
       "<div>\n",
       "<style scoped>\n",
       "    .dataframe tbody tr th:only-of-type {\n",
       "        vertical-align: middle;\n",
       "    }\n",
       "\n",
       "    .dataframe tbody tr th {\n",
       "        vertical-align: top;\n",
       "    }\n",
       "\n",
       "    .dataframe thead th {\n",
       "        text-align: right;\n",
       "    }\n",
       "</style>\n",
       "<table border=\"1\" class=\"dataframe\">\n",
       "  <thead>\n",
       "    <tr style=\"text-align: right;\">\n",
       "      <th></th>\n",
       "      <th>date</th>\n",
       "      <th>infected</th>\n",
       "      <th>day</th>\n",
       "    </tr>\n",
       "  </thead>\n",
       "  <tbody>\n",
       "    <tr>\n",
       "      <th>0</th>\n",
       "      <td>2020-03-04</td>\n",
       "      <td>1</td>\n",
       "      <td>1</td>\n",
       "    </tr>\n",
       "    <tr>\n",
       "      <th>1</th>\n",
       "      <td>2020-03-05</td>\n",
       "      <td>1</td>\n",
       "      <td>2</td>\n",
       "    </tr>\n",
       "    <tr>\n",
       "      <th>2</th>\n",
       "      <td>2020-03-06</td>\n",
       "      <td>5</td>\n",
       "      <td>3</td>\n",
       "    </tr>\n",
       "    <tr>\n",
       "      <th>3</th>\n",
       "      <td>2020-03-07</td>\n",
       "      <td>6</td>\n",
       "      <td>4</td>\n",
       "    </tr>\n",
       "    <tr>\n",
       "      <th>4</th>\n",
       "      <td>2020-03-08</td>\n",
       "      <td>11</td>\n",
       "      <td>5</td>\n",
       "    </tr>\n",
       "  </tbody>\n",
       "</table>\n",
       "</div>"
      ],
      "text/plain": [
       "        date  infected  day\n",
       "0 2020-03-04         1    1\n",
       "1 2020-03-05         1    2\n",
       "2 2020-03-06         5    3\n",
       "3 2020-03-07         6    4\n",
       "4 2020-03-08        11    5"
      ]
     },
     "execution_count": 1,
     "metadata": {},
     "output_type": "execute_result"
    }
   ],
   "source": [
    "import pandas as pd\n",
    "import numpy as np\n",
    "import matplotlib.pyplot as plt\n",
    "from scipy.optimize import curve_fit\n",
    "import math\n",
    "\n",
    "df = pd.read_csv('poland_basic.csv', sep=';')\n",
    "df['date'] = pd.to_datetime(df['date'])\n",
    "df['day'] = range(1, len(df) + 1)\n",
    "df.head()"
   ]
  },
  {
   "cell_type": "markdown",
   "metadata": {},
   "source": [
    "## Define prediction function "
   ]
  },
  {
   "cell_type": "code",
   "execution_count": 2,
   "metadata": {},
   "outputs": [],
   "source": [
    "def exp_func(x, a, b):\n",
    "    return a * np.exp(b * x)"
   ]
  },
  {
   "cell_type": "code",
   "execution_count": 3,
   "metadata": {},
   "outputs": [],
   "source": [
    "#Use data from 1 to n\n",
    "df_0 = df\n",
    "popt_0, pcov_0 = curve_fit(exp_func, df_0['day'], df_0['infected'])\n",
    "y_0 = exp_func(df_0['day'], *popt_0)\n",
    "\n",
    "#Use data from 1 to (n-3)\n",
    "df_3 = df[0 : len(df) - 3]\n",
    "popt_3, pcov_3 = curve_fit(exp_func, df_3['day'], df_3['infected'])\n",
    "y_3 = exp_func(df_3['day'], *popt_3)\n",
    "\n",
    "#Use data from 1 to (n-6)\n",
    "df_6 = df[0 : len(df) - 6]\n",
    "popt_6, pcov_6 = curve_fit(exp_func, df_6['day'], df_6['infected'])\n",
    "y_6 = exp_func(df_6['day'], *popt_6)"
   ]
  },
  {
   "cell_type": "markdown",
   "metadata": {},
   "source": [
    "## Predict number of infected people for the next few days"
   ]
  },
  {
   "cell_type": "code",
   "execution_count": 4,
   "metadata": {},
   "outputs": [
    {
     "name": "stdout",
     "output_type": "stream",
     "text": [
      "Date: 2020-03-25. Predicted infected people (n): 1135\n",
      "Date: 2020-03-25. Predicted infected people (n-3): 1430\n",
      "Date: 2020-03-25. Predicted infected people (n-6): 2254\n"
     ]
    }
   ],
   "source": [
    "last_day = df.tail(1)\n",
    "last_date = last_day['date']\n",
    "last_index = last_day['day']\n",
    "\n",
    "date = last_date + pd.DateOffset(1)\n",
    "formatted_date = np.datetime_as_string(date, unit='D')[0]\n",
    "\n",
    "predicted_0 = exp_func(last_index + 1, *popt_0)\n",
    "predicted_3 = exp_func(last_index + 1, *popt_3)\n",
    "predicted_6 = exp_func(last_index + 1, *popt_6)\n",
    "\n",
    "print(\"Date: {}. Predicted infected people (n): {}\".format(formatted_date, int(predicted_0)))\n",
    "print(\"Date: {}. Predicted infected people (n-3): {}\".format(formatted_date, int(predicted_3)))\n",
    "print(\"Date: {}. Predicted infected people (n-6): {}\".format(formatted_date, int(predicted_6)))"
   ]
  },
  {
   "cell_type": "markdown",
   "metadata": {},
   "source": [
    "## Plot fitted functions"
   ]
  },
  {
   "cell_type": "code",
   "execution_count": 5,
   "metadata": {},
   "outputs": [
    {
     "data": {
      "image/png": "[encoded data removed]",
      "text/plain": [
       "<Figure size 432x288 with 1 Axes>"
      ]
     },
     "metadata": {},
     "output_type": "display_data"
    }
   ],
   "source": [
    "xint = range(math.floor(min(df_0['day'])), math.ceil(max(df_0['day']))+1)\n",
    "\n",
    "infected_last_day = int(last_day['infected'])\n",
    "\n",
    "plt.figure()\n",
    "plt.xticks(xint)\n",
    "\n",
    "plt.title('Expected number of infected people in Poland (for {})'.format(formatted_date))\n",
    "plt.xlabel('Number of days from first infected person')\n",
    "plt.ylabel('Number of people')\n",
    "\n",
    "plt.plot(df['day'], df['infected'], 'ko', label=\"Infected people\")\n",
    "\n",
    "plt.plot(df_0['day'], exp_func(df_0['day'], *popt_0), 'r-', label=\"Prediction (n)\")\n",
    "plt.plot(df_0['day'], exp_func(df_0['day'], *popt_3), 'g-', label=\"Prediction (without last 3 days)\")\n",
    "plt.plot(df_0['day'], exp_func(df_0['day'], *popt_6), 'b-', label=\"Prediction (without last 6 days)\")\n",
    "\n",
    "plt.annotate('Prediction:', xy=(0.05, 0.57), xycoords='axes fraction')\n",
    "plt.annotate('for (n) = {} people (+{})'.format(str(int(predicted_0)), int(predicted_0)-infected_last_day), xy=(0.05, 0.5), xycoords='axes fraction')\n",
    "plt.annotate('for (n-3) = {} people (+{})'.format(str(int(predicted_3)), int(predicted_3)-infected_last_day), xy=(0.05, 0.43), xycoords='axes fraction')\n",
    "plt.annotate('for (n-6) = {} people (+{})'.format(str(int(predicted_6)), int(predicted_6)-infected_last_day), xy=(0.05, 0.36), xycoords='axes fraction')\n",
    "\n",
    "plt.legend()\n",
    "plt.show()"
   ]
  }
 ],
 "metadata": {
  "kernelspec": {
   "display_name": "Python 3",
   "language": "python",
   "name": "python3"
  },
  "language_info": {
   "codemirror_mode": {
    "name": "ipython",
    "version": 3
   },
   "file_extension": ".py",
   "mimetype": "text/x-python",
   "name": "python",
   "nbconvert_exporter": "python",
   "pygments_lexer": "ipython3",
   "version": "3.6.5"
  }
 },
 "nbformat": 4,
 "nbformat_minor": 2
}
